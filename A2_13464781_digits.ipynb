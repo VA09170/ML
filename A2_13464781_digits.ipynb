{
  "nbformat": 4,
  "nbformat_minor": 0,
  "metadata": {
    "colab": {
      "name": "A2_13464781_digits.ipynb",
      "provenance": [],
      "collapsed_sections": [],
      "authorship_tag": "ABX9TyPaCyBHxvN84d6MXxNO3bqL",
      "include_colab_link": true
    },
    "kernelspec": {
      "name": "python3",
      "display_name": "Python 3"
    }
  },
  "cells": [
    {
      "cell_type": "markdown",
      "metadata": {
        "id": "view-in-github",
        "colab_type": "text"
      },
      "source": [
        "<a href=\"https://colab.research.google.com/github/VA09170/ML/blob/main/A2_13464781_digits.ipynb\" target=\"_parent\"><img src=\"https://colab.research.google.com/assets/colab-badge.svg\" alt=\"Open In Colab\"/></a>"
      ]
    },
    {
      "cell_type": "markdown",
      "metadata": {
        "id": "8bPFyMCVWGgS"
      },
      "source": [
        "Download the data set\n"
      ]
    },
    {
      "cell_type": "code",
      "metadata": {
        "id": "RDjEwPlWWDQA",
        "outputId": "602a2180-80ed-43c5-90cb-89b2a2d941a5",
        "colab": {
          "base_uri": "https://localhost:8080/",
          "height": 781
        }
      },
      "source": [
        "!wget http://yann.lecun.com/exdb/mnist/train-images-idx3-ubyte.gz\n",
        "!wget http://yann.lecun.com/exdb/mnist/train-labels-idx1-ubyte.gz\n",
        "# teh following links are of the test data set\n",
        "!wget http://yann.lecun.com/exdb/mnist/t10k-images-idx3-ubyte.gz\n",
        "!wget http://yann.lecun.com/exdb/mnist/t10k-labels-idx1-ubyte.gz\n"
      ],
      "execution_count": 5,
      "outputs": [
        {
          "output_type": "stream",
          "text": [
            "--2020-10-13 09:51:30--  http://yann.lecun.com/exdb/mnist/train-images-idx3-ubyte.gz\n",
            "Resolving yann.lecun.com (yann.lecun.com)... 172.67.171.76, 104.28.7.204, 104.28.6.204, ...\n",
            "Connecting to yann.lecun.com (yann.lecun.com)|172.67.171.76|:80... connected.\n",
            "HTTP request sent, awaiting response... 200 OK\n",
            "Length: 9912422 (9.5M) [application/x-gzip]\n",
            "Saving to: ‘train-images-idx3-ubyte.gz’\n",
            "\n",
            "train-images-idx3-u 100%[===================>]   9.45M  4.87MB/s    in 1.9s    \n",
            "\n",
            "2020-10-13 09:51:33 (4.87 MB/s) - ‘train-images-idx3-ubyte.gz’ saved [9912422/9912422]\n",
            "\n",
            "--2020-10-13 09:51:33--  http://yann.lecun.com/exdb/mnist/train-labels-idx1-ubyte.gz\n",
            "Resolving yann.lecun.com (yann.lecun.com)... 172.67.171.76, 104.28.7.204, 104.28.6.204, ...\n",
            "Connecting to yann.lecun.com (yann.lecun.com)|172.67.171.76|:80... connected.\n",
            "HTTP request sent, awaiting response... 200 OK\n",
            "Length: 28881 (28K) [application/x-gzip]\n",
            "Saving to: ‘train-labels-idx1-ubyte.gz’\n",
            "\n",
            "train-labels-idx1-u 100%[===================>]  28.20K   157KB/s    in 0.2s    \n",
            "\n",
            "2020-10-13 09:51:33 (157 KB/s) - ‘train-labels-idx1-ubyte.gz’ saved [28881/28881]\n",
            "\n",
            "--2020-10-13 09:51:33--  http://yann.lecun.com/exdb/mnist/t10k-images-idx3-ubyte.gz\n",
            "Resolving yann.lecun.com (yann.lecun.com)... 172.67.171.76, 104.28.7.204, 104.28.6.204, ...\n",
            "Connecting to yann.lecun.com (yann.lecun.com)|172.67.171.76|:80... connected.\n",
            "HTTP request sent, awaiting response... 200 OK\n",
            "Length: 1648877 (1.6M) [application/x-gzip]\n",
            "Saving to: ‘t10k-images-idx3-ubyte.gz’\n",
            "\n",
            "t10k-images-idx3-ub 100%[===================>]   1.57M  1.48MB/s    in 1.1s    \n",
            "\n",
            "2020-10-13 09:51:35 (1.48 MB/s) - ‘t10k-images-idx3-ubyte.gz’ saved [1648877/1648877]\n",
            "\n",
            "--2020-10-13 09:51:35--  http://yann.lecun.com/exdb/mnist/t10k-labels-idx1-ubyte.gz\n",
            "Resolving yann.lecun.com (yann.lecun.com)... 172.67.171.76, 104.28.6.204, 104.28.7.204, ...\n",
            "Connecting to yann.lecun.com (yann.lecun.com)|172.67.171.76|:80... connected.\n",
            "HTTP request sent, awaiting response... 200 OK\n",
            "Length: 4542 (4.4K) [application/x-gzip]\n",
            "Saving to: ‘t10k-labels-idx1-ubyte.gz’\n",
            "\n",
            "t10k-labels-idx1-ub 100%[===================>]   4.44K  --.-KB/s    in 0s      \n",
            "\n",
            "2020-10-13 09:51:36 (463 MB/s) - ‘t10k-labels-idx1-ubyte.gz’ saved [4542/4542]\n",
            "\n"
          ],
          "name": "stdout"
        }
      ]
    },
    {
      "cell_type": "markdown",
      "metadata": {
        "id": "7AnBSnN3Wk43"
      },
      "source": [
        "check the data set is avaiable in the Dir or not."
      ]
    },
    {
      "cell_type": "code",
      "metadata": {
        "id": "8nNCXKUAWb6R",
        "outputId": "6793ea51-d121-4e88-fb54-16ab0a6fdb1b",
        "colab": {
          "base_uri": "https://localhost:8080/",
          "height": 121
        }
      },
      "source": [
        "ls -l"
      ],
      "execution_count": 6,
      "outputs": [
        {
          "output_type": "stream",
          "text": [
            "total 11340\n",
            "drwxr-xr-x 1 root root    4096 Oct  5 16:31 \u001b[0m\u001b[01;34msample_data\u001b[0m/\n",
            "-rw-r--r-- 1 root root 1648877 Jul 21  2000 t10k-images-idx3-ubyte.gz\n",
            "-rw-r--r-- 1 root root    4542 Jul 21  2000 t10k-labels-idx1-ubyte.gz\n",
            "-rw-r--r-- 1 root root 9912422 Jul 21  2000 train-images-idx3-ubyte.gz\n",
            "-rw-r--r-- 1 root root   28881 Jul 21  2000 train-labels-idx1-ubyte.gz\n"
          ],
          "name": "stdout"
        }
      ]
    },
    {
      "cell_type": "markdown",
      "metadata": {
        "id": "F4gjnJY3WqyT"
      },
      "source": [
        "Load the dataset"
      ]
    },
    {
      "cell_type": "code",
      "metadata": {
        "id": "M9kzBH7BWg7x"
      },
      "source": [
        "def load_mnist(path, kind='train'):\n",
        "    import os\n",
        "    import gzip\n",
        "    import numpy as np\n",
        "    \n",
        "    \"\"\"Load MNIST data from `path`\"\"\"\n",
        "    labels_path = os.path.join(path,\n",
        "                               '%s-labels-idx1-ubyte.gz'\n",
        "                               % kind)\n",
        "    images_path = os.path.join(path,\n",
        "                               '%s-images-idx3-ubyte.gz'\n",
        "                               % kind)\n",
        "\n",
        "    with gzip.open(labels_path, 'rb') as lbpath:\n",
        "        labels = np.frombuffer(lbpath.read(), dtype=np.uint8,\n",
        "                               offset=8)\n",
        "\n",
        "    with gzip.open(images_path, 'rb') as imgpath:\n",
        "        images = np.frombuffer(imgpath.read(), dtype=np.uint8,\n",
        "                               offset=16).reshape(len(labels), 784)\n",
        "\n",
        "    return images, labels"
      ],
      "execution_count": 7,
      "outputs": []
    },
    {
      "cell_type": "code",
      "metadata": {
        "id": "NguDSHlxYem5"
      },
      "source": [
        "import numpy as np\n",
        "import matplotlib.pyplot as plt"
      ],
      "execution_count": 8,
      "outputs": []
    },
    {
      "cell_type": "code",
      "metadata": {
        "id": "WDG4pmw5YhIK",
        "outputId": "eb11f650-5f04-449c-d407-aa8cf08e9c8a",
        "colab": {
          "base_uri": "https://localhost:8080/",
          "height": 86
        }
      },
      "source": [
        "X_train, y_train = load_mnist(\"./\",kind=\"train\")\n",
        "X_test, y_test = load_mnist(\"./\",kind=\"t10k\")\n",
        "print(\"X-Train set size\",np.shape(X_train))\n",
        "print(\"y-Test set size\", np.shape(X_test))\n",
        "\n",
        "print(\"X - Label set Size\", np.shape(y_train))\n",
        "print(\"y - Label set size\", np.shape(y_test))"
      ],
      "execution_count": 9,
      "outputs": [
        {
          "output_type": "stream",
          "text": [
            "X-Train set size (60000, 784)\n",
            "y-Test set size (10000, 784)\n",
            "X - Label set Size (60000,)\n",
            "y - Label set size (10000,)\n"
          ],
          "name": "stdout"
        }
      ]
    },
    {
      "cell_type": "code",
      "metadata": {
        "id": "QGLBf8xQYmgL"
      },
      "source": [
        "def visualize_data(img_array, label_array, no_to_view):\n",
        "    fig, ax = plt.subplots(nrows=8, ncols=8, sharex=True, sharey=True)\n",
        "    ax = ax.flatten()\n",
        "    for i in range(64):\n",
        "        img = img_array[label_array==no_to_view][i].reshape(28,28)\n",
        "        ax[i].imshow(img, cmap='Greys', interpolation='nearest')\n",
        "    plt.show()\n",
        "def encode_data(y, num_labels=10):\n",
        "    one_hot = np.zeros((num_labels, y.shape[0]))\n",
        "    for i, val in enumerate(y):\n",
        "        one_hot[val,i] = 1.0\n",
        "    return one_hot"
      ],
      "execution_count": 10,
      "outputs": []
    },
    {
      "cell_type": "code",
      "metadata": {
        "id": "VUGUCrUQYrDk",
        "outputId": "697fc59c-7712-47f5-b779-f1ab51308226",
        "colab": {
          "base_uri": "https://localhost:8080/",
          "height": 269
        }
      },
      "source": [
        "visualize_data(X_train, y_train, 3)"
      ],
      "execution_count": 11,
      "outputs": [
        {
          "output_type": "display_data",
          "data": {
            "image/png": "[encoded data removed]",
            "text/plain": [
              "<Figure size 432x288 with 64 Axes>"
            ]
          },
          "metadata": {
            "tags": [],
            "needs_background": "light"
          }
        }
      ]
    },
    {
      "cell_type": "code",
      "metadata": {
        "id": "IndSMoh9Ysx2",
        "outputId": "f47f8275-bb42-4693-b8f5-4dea0ff66777",
        "colab": {
          "base_uri": "https://localhost:8080/",
          "height": 208
        }
      },
      "source": [
        "y = np.array([4,5,6,7,9,0])\n",
        "print(y)\n",
        "z = encode_data(y)\n",
        "print(z)"
      ],
      "execution_count": 12,
      "outputs": [
        {
          "output_type": "stream",
          "text": [
            "[4 5 6 7 9 0]\n",
            "[[0. 0. 0. 0. 0. 1.]\n",
            " [0. 0. 0. 0. 0. 0.]\n",
            " [0. 0. 0. 0. 0. 0.]\n",
            " [0. 0. 0. 0. 0. 0.]\n",
            " [1. 0. 0. 0. 0. 0.]\n",
            " [0. 1. 0. 0. 0. 0.]\n",
            " [0. 0. 1. 0. 0. 0.]\n",
            " [0. 0. 0. 1. 0. 0.]\n",
            " [0. 0. 0. 0. 0. 0.]\n",
            " [0. 0. 0. 0. 1. 0.]]\n"
          ],
          "name": "stdout"
        }
      ]
    },
    {
      "cell_type": "code",
      "metadata": {
        "id": "XrsBR83TY3Fr"
      },
      "source": [
        "def sigmoid(x):\n",
        "    return 1 / (1 + np.exp(-x))\n",
        "\n",
        "def visualize_sigmoid():\n",
        "    x = np.arange(-10, 10, 0.1)\n",
        "    y = sigmoid(x)\n",
        "    fig, ax = plt.subplots()\n",
        "    ax.plot(x,y)\n",
        "    plt.show()\n",
        "    \n",
        "def sigmoid_gradient(z):\n",
        "    s = sigmoid(z)\n",
        "    return s * (1 - s)\n",
        "\n",
        "def calc_cost(y_enc, outpt):\n",
        "    t1 = -y_enc * np.log(outpt)\n",
        "    t2 = (1 - y_enc)*np.log(1-outpt)\n",
        "    cost = np.sum(t1 - t2)\n",
        "    return cost\n",
        "\n",
        "\n"
      ],
      "execution_count": 13,
      "outputs": []
    },
    {
      "cell_type": "code",
      "metadata": {
        "id": "PLzAJ_erY5HD",
        "outputId": "e06374d2-cbed-417d-8a9c-68415f17e996",
        "colab": {
          "base_uri": "https://localhost:8080/",
          "height": 265
        }
      },
      "source": [
        "visualize_sigmoid()"
      ],
      "execution_count": 14,
      "outputs": [
        {
          "output_type": "display_data",
          "data": {
            "image/png": "[encoded data removed]",
            "text/plain": [
              "<Figure size 432x288 with 1 Axes>"
            ]
          },
          "metadata": {
            "tags": [],
            "needs_background": "light"
          }
        }
      ]
    },
    {
      "cell_type": "code",
      "metadata": {
        "id": "yHRY1UNHY6_d"
      },
      "source": [
        "def add_bias_unit(X, where):\n",
        "    # where is just row or column\n",
        "    if where == 'column':\n",
        "        X_new = np.ones((X.shape[0], X.shape[1] + 1))\n",
        "        X_new[:, 1:] = X\n",
        "    elif where == 'row':\n",
        "        X_new = np.ones((X.shape[0] + 1, X.shape[1]))\n",
        "        X_new[1:, :] = X\n",
        "    return X_new"
      ],
      "execution_count": 15,
      "outputs": []
    },
    {
      "cell_type": "code",
      "metadata": {
        "id": "jsDccjyIY9Qy"
      },
      "source": [
        "def init_weights(n_features, n_hidden, n_output):\n",
        "    w1 = np.random.uniform(-1.0, 1.0, size=n_hidden*(n_features+1))\n",
        "    w1 = w1.reshape(n_hidden, n_features+1)\n",
        "    w2 = np.random.uniform(-1.0, 1.0, size=n_hidden*(n_hidden+1))\n",
        "    w2 = w2.reshape(n_hidden, n_hidden+1)\n",
        "    w3 = np.random.uniform(-1.0, 1.0, size=n_output*(n_hidden+1))\n",
        "    w3 = w3.reshape(n_output, n_hidden+1)\n",
        "    return w1, w2, w3\n",
        "\n",
        "def feed_forward(x, w1, w2, w3):\n",
        "    # add bias unit to the input\n",
        "    # column within the row is just a byte of data\n",
        "    # so we need to add a column vector of ones\n",
        "    a1 = add_bias_unit(x, where='column')\n",
        "    z2 = w1.dot(a1.T)\n",
        "    a2 = sigmoid(z2)\n",
        "    # since we transposed we have to add bias units as a row\n",
        "    a2 = add_bias_unit(a2, where='row')\n",
        "    z3 = w2.dot(a2)\n",
        "    a3 = sigmoid(z3)\n",
        "    a3 = add_bias_unit(a3, where='row')\n",
        "    z4 = w3.dot(a3)\n",
        "    a4 = sigmoid(z4)\n",
        "    return a1, z2, a2, z3, a3, z4, a4\n",
        "\n",
        "def predict(x, w1, w2, w3):\n",
        "    a1, z2, a2, z3, a3, z4, a4 = feed_forward(x, w1, w2, w3)\n",
        "    y_pred = np.argmax(a4, axis=0)\n",
        "    return y_pred\n",
        "\n",
        "def calc_grad(a1, a2, a3, a4, z2, z3, z4, y_enc, w1, w2, w3):\n",
        "    delta4 = a4 - y_enc\n",
        "    z3 = add_bias_unit(z3, where='row')\n",
        "    delta3 = w3.T.dot(delta4)*sigmoid_gradient(z3)\n",
        "    delta3 = delta3[1:, :]\n",
        "    z2 = add_bias_unit(z2, where='row')\n",
        "    delta2 = w2.T.dot(delta3)*sigmoid_gradient(z2)\n",
        "    delta2 = delta2[1:,:]\n",
        "\n",
        "    grad1 = delta2.dot(a1)\n",
        "    grad2 = delta3.dot(a2.T)\n",
        "    grad3 = delta4.dot(a3.T)\n",
        "\n",
        "    return grad1, grad2, grad3\n",
        "\n"
      ],
      "execution_count": 17,
      "outputs": []
    },
    {
      "cell_type": "code",
      "metadata": {
        "id": "YI673HlvZDp-"
      },
      "source": [
        "def runModel(X, y, X_t, y_t):\n",
        "    X_copy, y_copy = X.copy(), y.copy()\n",
        "    y_enc = encode_data(y)\n",
        "    epochs = 500\n",
        "    batch = 50\n",
        "\n",
        "    w1, w2, w3 = init_weights(784, 75, 10)\n",
        "\n",
        "    alpha = 0.001\n",
        "    eta = 0.001\n",
        "    dec = 0.00001\n",
        "    delta_w1_prev = np.zeros(w1.shape)\n",
        "    delta_w2_prev = np.zeros(w2.shape)\n",
        "    delta_w3_prev = np.zeros(w3.shape)\n",
        "    total_cost = []\n",
        "    pred_acc = np.zeros(epochs)\n",
        "\n",
        "    for i in range(epochs):\n",
        "\n",
        "        shuffle = np.random.permutation(y_copy.shape[0])\n",
        "        X_copy, y_enc = X_copy[shuffle], y_enc[:, shuffle]\n",
        "        eta /= (1 + dec*i)\n",
        "\n",
        "        mini = np.array_split(range(y_copy.shape[0]), batch)\n",
        "\n",
        "        for step in mini:\n",
        "            # feed forward the model\n",
        "            a1, z2, a2, z3, a3, z4, a4 = feed_forward(X_copy[step], w1, w2, w3)\n",
        "            cost = calc_cost(y_enc[:,step], a4)\n",
        "\n",
        "            total_cost.append(cost)\n",
        "            # back propagate\n",
        "            grad1, grad2, grad3 = calc_grad(a1, a2, a3, a4, z2, z3, z4, y_enc[:,step],\n",
        "                                            w1, w2, w3)\n",
        "            delta_w1, delta_w2, delta_w3 = eta * grad1, eta * grad2, eta * grad3\n",
        "\n",
        "            w1 -= delta_w1 + alpha * delta_w1_prev\n",
        "            w2 -= delta_w2 + alpha * delta_w2_prev\n",
        "            w3 -= delta_w3 + alpha * delta_w3_prev\n",
        "\n",
        "            delta_w1_prev, delta_w2_prev, delta_w3_prev = delta_w1, delta_w2, delta_w3_prev\n",
        "\n",
        "        y_pred = predict(X_t, w1, w2, w3)\n",
        "        pred_acc[i] = 100*np.sum(y_t == y_pred, axis=0) / X_t.shape[0]\n",
        "        print('epoch #', i, \"Accuracy is \", pred_acc[i])\n",
        "    return total_cost, pred_acc, y_pred"
      ],
      "execution_count": 29,
      "outputs": []
    },
    {
      "cell_type": "code",
      "metadata": {
        "id": "cnv1JG8zZHCM",
        "outputId": "5baeb3bd-d8aa-4a32-dd01-bf87baf05d9a",
        "colab": {
          "base_uri": "https://localhost:8080/",
          "height": 1000
        }
      },
      "source": [
        "cost, acc, y_pred = runModel(X_train, y_train, X_test, y_test)"
      ],
      "execution_count": 30,
      "outputs": [
        {
          "output_type": "stream",
          "text": [
            "/usr/local/lib/python3.6/dist-packages/ipykernel_launcher.py:2: RuntimeWarning: overflow encountered in exp\n",
            "  \n"
          ],
          "name": "stderr"
        },
        {
          "output_type": "stream",
          "text": [
            "epoch # 0 Accuracy is  70.41\n",
            "epoch # 1 Accuracy is  78.64\n",
            "epoch # 2 Accuracy is  79.72\n",
            "epoch # 3 Accuracy is  81.97\n",
            "epoch # 4 Accuracy is  84.2\n",
            "epoch # 5 Accuracy is  85.03\n",
            "epoch # 6 Accuracy is  85.81\n",
            "epoch # 7 Accuracy is  86.69\n",
            "epoch # 8 Accuracy is  87.27\n",
            "epoch # 9 Accuracy is  87.35\n",
            "epoch # 10 Accuracy is  87.41\n",
            "epoch # 11 Accuracy is  88.44\n",
            "epoch # 12 Accuracy is  87.44\n",
            "epoch # 13 Accuracy is  88.71\n",
            "epoch # 14 Accuracy is  87.98\n",
            "epoch # 15 Accuracy is  88.13\n",
            "epoch # 16 Accuracy is  88.29\n",
            "epoch # 17 Accuracy is  89.12\n",
            "epoch # 18 Accuracy is  89.62\n",
            "epoch # 19 Accuracy is  88.86\n",
            "epoch # 20 Accuracy is  89.95\n",
            "epoch # 21 Accuracy is  89.87\n",
            "epoch # 22 Accuracy is  89.85\n",
            "epoch # 23 Accuracy is  90.03\n",
            "epoch # 24 Accuracy is  90.19\n",
            "epoch # 25 Accuracy is  90.64\n",
            "epoch # 26 Accuracy is  90.61\n",
            "epoch # 27 Accuracy is  90.43\n",
            "epoch # 28 Accuracy is  90.87\n",
            "epoch # 29 Accuracy is  91.26\n",
            "epoch # 30 Accuracy is  91.18\n",
            "epoch # 31 Accuracy is  90.78\n",
            "epoch # 32 Accuracy is  90.91\n",
            "epoch # 33 Accuracy is  90.05\n",
            "epoch # 34 Accuracy is  89.92\n",
            "epoch # 35 Accuracy is  90.42\n",
            "epoch # 36 Accuracy is  90.71\n",
            "epoch # 37 Accuracy is  91.17\n",
            "epoch # 38 Accuracy is  91.01\n",
            "epoch # 39 Accuracy is  90.79\n",
            "epoch # 40 Accuracy is  91.03\n",
            "epoch # 41 Accuracy is  91.33\n",
            "epoch # 42 Accuracy is  91.55\n",
            "epoch # 43 Accuracy is  91.8\n",
            "epoch # 44 Accuracy is  91.59\n",
            "epoch # 45 Accuracy is  91.02\n",
            "epoch # 46 Accuracy is  91.68\n",
            "epoch # 47 Accuracy is  91.13\n",
            "epoch # 48 Accuracy is  91.14\n",
            "epoch # 49 Accuracy is  91.12\n",
            "epoch # 50 Accuracy is  91.63\n",
            "epoch # 51 Accuracy is  91.34\n",
            "epoch # 52 Accuracy is  92.0\n",
            "epoch # 53 Accuracy is  92.13\n",
            "epoch # 54 Accuracy is  92.16\n",
            "epoch # 55 Accuracy is  92.47\n",
            "epoch # 56 Accuracy is  91.57\n",
            "epoch # 57 Accuracy is  91.19\n",
            "epoch # 58 Accuracy is  91.15\n",
            "epoch # 59 Accuracy is  91.72\n",
            "epoch # 60 Accuracy is  92.13\n",
            "epoch # 61 Accuracy is  92.03\n",
            "epoch # 62 Accuracy is  91.51\n",
            "epoch # 63 Accuracy is  92.2\n",
            "epoch # 64 Accuracy is  92.02\n",
            "epoch # 65 Accuracy is  91.31\n",
            "epoch # 66 Accuracy is  91.73\n",
            "epoch # 67 Accuracy is  92.02\n",
            "epoch # 68 Accuracy is  91.89\n",
            "epoch # 69 Accuracy is  91.22\n",
            "epoch # 70 Accuracy is  91.81\n",
            "epoch # 71 Accuracy is  92.32\n",
            "epoch # 72 Accuracy is  92.15\n",
            "epoch # 73 Accuracy is  92.48\n",
            "epoch # 74 Accuracy is  92.44\n",
            "epoch # 75 Accuracy is  92.15\n",
            "epoch # 76 Accuracy is  92.48\n",
            "epoch # 77 Accuracy is  92.65\n",
            "epoch # 78 Accuracy is  92.2\n",
            "epoch # 79 Accuracy is  92.6\n",
            "epoch # 80 Accuracy is  92.42\n",
            "epoch # 81 Accuracy is  92.15\n",
            "epoch # 82 Accuracy is  92.32\n",
            "epoch # 83 Accuracy is  92.39\n",
            "epoch # 84 Accuracy is  92.51\n",
            "epoch # 85 Accuracy is  92.51\n",
            "epoch # 86 Accuracy is  92.07\n",
            "epoch # 87 Accuracy is  92.56\n",
            "epoch # 88 Accuracy is  92.8\n",
            "epoch # 89 Accuracy is  92.61\n",
            "epoch # 90 Accuracy is  92.65\n",
            "epoch # 91 Accuracy is  92.93\n",
            "epoch # 92 Accuracy is  92.35\n",
            "epoch # 93 Accuracy is  92.65\n",
            "epoch # 94 Accuracy is  92.56\n",
            "epoch # 95 Accuracy is  93.04\n",
            "epoch # 96 Accuracy is  93.07\n",
            "epoch # 97 Accuracy is  93.37\n",
            "epoch # 98 Accuracy is  93.34\n",
            "epoch # 99 Accuracy is  93.43\n",
            "epoch # 100 Accuracy is  93.09\n",
            "epoch # 101 Accuracy is  93.14\n",
            "epoch # 102 Accuracy is  93.16\n",
            "epoch # 103 Accuracy is  93.08\n",
            "epoch # 104 Accuracy is  92.88\n",
            "epoch # 105 Accuracy is  93.37\n",
            "epoch # 106 Accuracy is  93.41\n",
            "epoch # 107 Accuracy is  93.22\n",
            "epoch # 108 Accuracy is  92.99\n",
            "epoch # 109 Accuracy is  93.17\n",
            "epoch # 110 Accuracy is  93.07\n",
            "epoch # 111 Accuracy is  93.16\n",
            "epoch # 112 Accuracy is  93.27\n",
            "epoch # 113 Accuracy is  93.13\n",
            "epoch # 114 Accuracy is  93.06\n",
            "epoch # 115 Accuracy is  93.29\n",
            "epoch # 116 Accuracy is  92.89\n",
            "epoch # 117 Accuracy is  92.79\n",
            "epoch # 118 Accuracy is  93.25\n",
            "epoch # 119 Accuracy is  93.13\n",
            "epoch # 120 Accuracy is  93.37\n",
            "epoch # 121 Accuracy is  93.08\n",
            "epoch # 122 Accuracy is  93.42\n",
            "epoch # 123 Accuracy is  93.46\n",
            "epoch # 124 Accuracy is  93.44\n",
            "epoch # 125 Accuracy is  93.14\n",
            "epoch # 126 Accuracy is  93.25\n",
            "epoch # 127 Accuracy is  93.48\n",
            "epoch # 128 Accuracy is  93.35\n",
            "epoch # 129 Accuracy is  93.45\n",
            "epoch # 130 Accuracy is  93.83\n",
            "epoch # 131 Accuracy is  93.63\n",
            "epoch # 132 Accuracy is  93.63\n",
            "epoch # 133 Accuracy is  93.55\n",
            "epoch # 134 Accuracy is  93.6\n",
            "epoch # 135 Accuracy is  93.14\n",
            "epoch # 136 Accuracy is  93.48\n",
            "epoch # 137 Accuracy is  93.54\n",
            "epoch # 138 Accuracy is  93.26\n",
            "epoch # 139 Accuracy is  93.55\n",
            "epoch # 140 Accuracy is  93.93\n",
            "epoch # 141 Accuracy is  93.44\n",
            "epoch # 142 Accuracy is  93.45\n",
            "epoch # 143 Accuracy is  93.45\n",
            "epoch # 144 Accuracy is  93.74\n",
            "epoch # 145 Accuracy is  93.95\n",
            "epoch # 146 Accuracy is  94.12\n",
            "epoch # 147 Accuracy is  94.06\n",
            "epoch # 148 Accuracy is  93.81\n",
            "epoch # 149 Accuracy is  94.09\n",
            "epoch # 150 Accuracy is  93.62\n",
            "epoch # 151 Accuracy is  93.44\n",
            "epoch # 152 Accuracy is  93.58\n",
            "epoch # 153 Accuracy is  93.49\n",
            "epoch # 154 Accuracy is  93.77\n",
            "epoch # 155 Accuracy is  93.39\n",
            "epoch # 156 Accuracy is  93.87\n",
            "epoch # 157 Accuracy is  93.81\n",
            "epoch # 158 Accuracy is  93.76\n",
            "epoch # 159 Accuracy is  93.99\n",
            "epoch # 160 Accuracy is  93.82\n",
            "epoch # 161 Accuracy is  93.75\n",
            "epoch # 162 Accuracy is  93.93\n",
            "epoch # 163 Accuracy is  94.1\n",
            "epoch # 164 Accuracy is  94.02\n",
            "epoch # 165 Accuracy is  94.23\n",
            "epoch # 166 Accuracy is  93.91\n",
            "epoch # 167 Accuracy is  94.28\n",
            "epoch # 168 Accuracy is  94.15\n",
            "epoch # 169 Accuracy is  93.92\n",
            "epoch # 170 Accuracy is  94.17\n",
            "epoch # 171 Accuracy is  94.27\n",
            "epoch # 172 Accuracy is  93.76\n",
            "epoch # 173 Accuracy is  93.89\n",
            "epoch # 174 Accuracy is  94.23\n",
            "epoch # 175 Accuracy is  94.24\n",
            "epoch # 176 Accuracy is  94.06\n",
            "epoch # 177 Accuracy is  94.19\n",
            "epoch # 178 Accuracy is  94.17\n",
            "epoch # 179 Accuracy is  94.1\n",
            "epoch # 180 Accuracy is  93.79\n",
            "epoch # 181 Accuracy is  93.96\n",
            "epoch # 182 Accuracy is  94.06\n",
            "epoch # 183 Accuracy is  94.14\n",
            "epoch # 184 Accuracy is  94.2\n",
            "epoch # 185 Accuracy is  94.1\n",
            "epoch # 186 Accuracy is  94.31\n",
            "epoch # 187 Accuracy is  93.9\n",
            "epoch # 188 Accuracy is  94.0\n",
            "epoch # 189 Accuracy is  94.51\n",
            "epoch # 190 Accuracy is  93.98\n",
            "epoch # 191 Accuracy is  94.19\n",
            "epoch # 192 Accuracy is  94.19\n",
            "epoch # 193 Accuracy is  94.28\n",
            "epoch # 194 Accuracy is  94.58\n",
            "epoch # 195 Accuracy is  94.36\n",
            "epoch # 196 Accuracy is  94.68\n",
            "epoch # 197 Accuracy is  94.43\n",
            "epoch # 198 Accuracy is  94.51\n",
            "epoch # 199 Accuracy is  94.19\n",
            "epoch # 200 Accuracy is  94.36\n",
            "epoch # 201 Accuracy is  94.51\n",
            "epoch # 202 Accuracy is  94.47\n",
            "epoch # 203 Accuracy is  94.42\n",
            "epoch # 204 Accuracy is  94.35\n",
            "epoch # 205 Accuracy is  94.1\n",
            "epoch # 206 Accuracy is  94.31\n",
            "epoch # 207 Accuracy is  94.33\n",
            "epoch # 208 Accuracy is  94.31\n",
            "epoch # 209 Accuracy is  94.39\n",
            "epoch # 210 Accuracy is  94.37\n",
            "epoch # 211 Accuracy is  94.52\n",
            "epoch # 212 Accuracy is  94.26\n",
            "epoch # 213 Accuracy is  94.5\n",
            "epoch # 214 Accuracy is  94.64\n",
            "epoch # 215 Accuracy is  94.39\n",
            "epoch # 216 Accuracy is  94.61\n",
            "epoch # 217 Accuracy is  94.47\n",
            "epoch # 218 Accuracy is  94.45\n",
            "epoch # 219 Accuracy is  94.59\n",
            "epoch # 220 Accuracy is  94.45\n",
            "epoch # 221 Accuracy is  94.49\n",
            "epoch # 222 Accuracy is  94.43\n",
            "epoch # 223 Accuracy is  94.46\n",
            "epoch # 224 Accuracy is  94.53\n",
            "epoch # 225 Accuracy is  94.59\n",
            "epoch # 226 Accuracy is  94.65\n",
            "epoch # 227 Accuracy is  94.48\n",
            "epoch # 228 Accuracy is  94.73\n",
            "epoch # 229 Accuracy is  94.56\n",
            "epoch # 230 Accuracy is  94.63\n",
            "epoch # 231 Accuracy is  94.77\n",
            "epoch # 232 Accuracy is  94.84\n",
            "epoch # 233 Accuracy is  94.63\n",
            "epoch # 234 Accuracy is  94.69\n",
            "epoch # 235 Accuracy is  94.82\n",
            "epoch # 236 Accuracy is  94.93\n",
            "epoch # 237 Accuracy is  94.74\n",
            "epoch # 238 Accuracy is  94.78\n",
            "epoch # 239 Accuracy is  94.78\n",
            "epoch # 240 Accuracy is  94.79\n",
            "epoch # 241 Accuracy is  94.87\n",
            "epoch # 242 Accuracy is  94.87\n",
            "epoch # 243 Accuracy is  94.79\n",
            "epoch # 244 Accuracy is  94.92\n",
            "epoch # 245 Accuracy is  94.9\n",
            "epoch # 246 Accuracy is  94.6\n",
            "epoch # 247 Accuracy is  95.02\n",
            "epoch # 248 Accuracy is  94.94\n",
            "epoch # 249 Accuracy is  94.8\n",
            "epoch # 250 Accuracy is  94.85\n",
            "epoch # 251 Accuracy is  94.8\n",
            "epoch # 252 Accuracy is  94.93\n",
            "epoch # 253 Accuracy is  94.54\n",
            "epoch # 254 Accuracy is  94.64\n",
            "epoch # 255 Accuracy is  94.58\n",
            "epoch # 256 Accuracy is  94.71\n",
            "epoch # 257 Accuracy is  94.72\n",
            "epoch # 258 Accuracy is  94.47\n",
            "epoch # 259 Accuracy is  94.59\n",
            "epoch # 260 Accuracy is  94.82\n",
            "epoch # 261 Accuracy is  94.85\n",
            "epoch # 262 Accuracy is  94.59\n",
            "epoch # 263 Accuracy is  94.81\n",
            "epoch # 264 Accuracy is  94.88\n",
            "epoch # 265 Accuracy is  94.62\n",
            "epoch # 266 Accuracy is  94.45\n",
            "epoch # 267 Accuracy is  94.75\n",
            "epoch # 268 Accuracy is  94.89\n",
            "epoch # 269 Accuracy is  94.65\n",
            "epoch # 270 Accuracy is  94.62\n",
            "epoch # 271 Accuracy is  94.59\n",
            "epoch # 272 Accuracy is  94.87\n",
            "epoch # 273 Accuracy is  94.76\n",
            "epoch # 274 Accuracy is  94.81\n",
            "epoch # 275 Accuracy is  94.57\n",
            "epoch # 276 Accuracy is  95.02\n",
            "epoch # 277 Accuracy is  94.9\n",
            "epoch # 278 Accuracy is  95.13\n",
            "epoch # 279 Accuracy is  94.82\n",
            "epoch # 280 Accuracy is  94.98\n",
            "epoch # 281 Accuracy is  94.79\n",
            "epoch # 282 Accuracy is  94.82\n",
            "epoch # 283 Accuracy is  94.8\n",
            "epoch # 284 Accuracy is  95.11\n",
            "epoch # 285 Accuracy is  94.99\n",
            "epoch # 286 Accuracy is  94.96\n",
            "epoch # 287 Accuracy is  94.82\n",
            "epoch # 288 Accuracy is  94.66\n",
            "epoch # 289 Accuracy is  94.93\n",
            "epoch # 290 Accuracy is  95.08\n",
            "epoch # 291 Accuracy is  95.09\n",
            "epoch # 292 Accuracy is  94.92\n",
            "epoch # 293 Accuracy is  94.99\n",
            "epoch # 294 Accuracy is  95.08\n",
            "epoch # 295 Accuracy is  94.98\n",
            "epoch # 296 Accuracy is  95.1\n",
            "epoch # 297 Accuracy is  95.03\n",
            "epoch # 298 Accuracy is  94.99\n",
            "epoch # 299 Accuracy is  95.14\n",
            "epoch # 300 Accuracy is  94.92\n",
            "epoch # 301 Accuracy is  94.73\n",
            "epoch # 302 Accuracy is  94.86\n",
            "epoch # 303 Accuracy is  95.22\n",
            "epoch # 304 Accuracy is  95.24\n",
            "epoch # 305 Accuracy is  95.12\n",
            "epoch # 306 Accuracy is  95.08\n",
            "epoch # 307 Accuracy is  94.75\n",
            "epoch # 308 Accuracy is  95.05\n",
            "epoch # 309 Accuracy is  94.87\n",
            "epoch # 310 Accuracy is  94.88\n",
            "epoch # 311 Accuracy is  94.97\n",
            "epoch # 312 Accuracy is  95.26\n",
            "epoch # 313 Accuracy is  95.14\n",
            "epoch # 314 Accuracy is  95.26\n",
            "epoch # 315 Accuracy is  95.27\n",
            "epoch # 316 Accuracy is  95.09\n",
            "epoch # 317 Accuracy is  95.28\n",
            "epoch # 318 Accuracy is  95.35\n",
            "epoch # 319 Accuracy is  95.41\n",
            "epoch # 320 Accuracy is  95.37\n",
            "epoch # 321 Accuracy is  95.6\n",
            "epoch # 322 Accuracy is  95.48\n",
            "epoch # 323 Accuracy is  95.34\n",
            "epoch # 324 Accuracy is  95.47\n",
            "epoch # 325 Accuracy is  95.71\n",
            "epoch # 326 Accuracy is  95.6\n",
            "epoch # 327 Accuracy is  95.39\n",
            "epoch # 328 Accuracy is  95.38\n",
            "epoch # 329 Accuracy is  95.42\n",
            "epoch # 330 Accuracy is  95.34\n",
            "epoch # 331 Accuracy is  95.32\n",
            "epoch # 332 Accuracy is  95.25\n",
            "epoch # 333 Accuracy is  95.18\n",
            "epoch # 334 Accuracy is  95.19\n",
            "epoch # 335 Accuracy is  95.17\n",
            "epoch # 336 Accuracy is  95.34\n",
            "epoch # 337 Accuracy is  95.39\n",
            "epoch # 338 Accuracy is  95.33\n",
            "epoch # 339 Accuracy is  95.38\n",
            "epoch # 340 Accuracy is  95.36\n",
            "epoch # 341 Accuracy is  95.36\n",
            "epoch # 342 Accuracy is  95.54\n",
            "epoch # 343 Accuracy is  95.47\n",
            "epoch # 344 Accuracy is  95.35\n",
            "epoch # 345 Accuracy is  95.33\n",
            "epoch # 346 Accuracy is  95.39\n",
            "epoch # 347 Accuracy is  95.43\n",
            "epoch # 348 Accuracy is  95.45\n",
            "epoch # 349 Accuracy is  95.47\n",
            "epoch # 350 Accuracy is  95.56\n",
            "epoch # 351 Accuracy is  95.8\n",
            "epoch # 352 Accuracy is  95.5\n",
            "epoch # 353 Accuracy is  95.63\n",
            "epoch # 354 Accuracy is  95.55\n",
            "epoch # 355 Accuracy is  95.48\n",
            "epoch # 356 Accuracy is  95.57\n",
            "epoch # 357 Accuracy is  95.41\n",
            "epoch # 358 Accuracy is  95.58\n",
            "epoch # 359 Accuracy is  95.59\n",
            "epoch # 360 Accuracy is  95.7\n",
            "epoch # 361 Accuracy is  95.51\n",
            "epoch # 362 Accuracy is  95.37\n",
            "epoch # 363 Accuracy is  95.59\n",
            "epoch # 364 Accuracy is  95.54\n",
            "epoch # 365 Accuracy is  95.57\n",
            "epoch # 366 Accuracy is  95.52\n",
            "epoch # 367 Accuracy is  95.61\n",
            "epoch # 368 Accuracy is  95.42\n",
            "epoch # 369 Accuracy is  95.47\n",
            "epoch # 370 Accuracy is  95.53\n",
            "epoch # 371 Accuracy is  95.43\n",
            "epoch # 372 Accuracy is  95.43\n",
            "epoch # 373 Accuracy is  95.44\n",
            "epoch # 374 Accuracy is  95.19\n",
            "epoch # 375 Accuracy is  95.39\n",
            "epoch # 376 Accuracy is  95.58\n",
            "epoch # 377 Accuracy is  95.41\n",
            "epoch # 378 Accuracy is  95.45\n",
            "epoch # 379 Accuracy is  95.41\n",
            "epoch # 380 Accuracy is  95.44\n",
            "epoch # 381 Accuracy is  95.01\n",
            "epoch # 382 Accuracy is  95.31\n",
            "epoch # 383 Accuracy is  95.16\n",
            "epoch # 384 Accuracy is  95.3\n",
            "epoch # 385 Accuracy is  95.4\n",
            "epoch # 386 Accuracy is  95.39\n",
            "epoch # 387 Accuracy is  95.47\n",
            "epoch # 388 Accuracy is  95.55\n",
            "epoch # 389 Accuracy is  95.41\n",
            "epoch # 390 Accuracy is  95.48\n",
            "epoch # 391 Accuracy is  95.4\n",
            "epoch # 392 Accuracy is  95.51\n",
            "epoch # 393 Accuracy is  95.29\n",
            "epoch # 394 Accuracy is  95.46\n",
            "epoch # 395 Accuracy is  95.6\n",
            "epoch # 396 Accuracy is  95.74\n",
            "epoch # 397 Accuracy is  95.73\n",
            "epoch # 398 Accuracy is  95.78\n",
            "epoch # 399 Accuracy is  95.53\n",
            "epoch # 400 Accuracy is  95.53\n",
            "epoch # 401 Accuracy is  95.72\n",
            "epoch # 402 Accuracy is  95.51\n",
            "epoch # 403 Accuracy is  95.33\n",
            "epoch # 404 Accuracy is  95.48\n",
            "epoch # 405 Accuracy is  95.55\n",
            "epoch # 406 Accuracy is  95.57\n",
            "epoch # 407 Accuracy is  95.71\n",
            "epoch # 408 Accuracy is  95.83\n",
            "epoch # 409 Accuracy is  95.73\n",
            "epoch # 410 Accuracy is  95.81\n",
            "epoch # 411 Accuracy is  95.79\n",
            "epoch # 412 Accuracy is  95.68\n",
            "epoch # 413 Accuracy is  95.71\n",
            "epoch # 414 Accuracy is  95.63\n",
            "epoch # 415 Accuracy is  95.66\n",
            "epoch # 416 Accuracy is  95.72\n",
            "epoch # 417 Accuracy is  95.62\n",
            "epoch # 418 Accuracy is  95.74\n",
            "epoch # 419 Accuracy is  95.78\n",
            "epoch # 420 Accuracy is  95.59\n",
            "epoch # 421 Accuracy is  95.72\n",
            "epoch # 422 Accuracy is  95.7\n",
            "epoch # 423 Accuracy is  95.79\n",
            "epoch # 424 Accuracy is  95.74\n",
            "epoch # 425 Accuracy is  95.72\n",
            "epoch # 426 Accuracy is  95.64\n",
            "epoch # 427 Accuracy is  95.72\n",
            "epoch # 428 Accuracy is  95.64\n",
            "epoch # 429 Accuracy is  95.65\n",
            "epoch # 430 Accuracy is  95.73\n",
            "epoch # 431 Accuracy is  95.77\n",
            "epoch # 432 Accuracy is  95.79\n",
            "epoch # 433 Accuracy is  95.69\n",
            "epoch # 434 Accuracy is  95.85\n",
            "epoch # 435 Accuracy is  95.73\n",
            "epoch # 436 Accuracy is  95.75\n",
            "epoch # 437 Accuracy is  95.72\n",
            "epoch # 438 Accuracy is  95.79\n",
            "epoch # 439 Accuracy is  95.74\n",
            "epoch # 440 Accuracy is  95.88\n",
            "epoch # 441 Accuracy is  95.92\n",
            "epoch # 442 Accuracy is  95.76\n",
            "epoch # 443 Accuracy is  95.73\n",
            "epoch # 444 Accuracy is  95.76\n",
            "epoch # 445 Accuracy is  95.61\n",
            "epoch # 446 Accuracy is  95.66\n",
            "epoch # 447 Accuracy is  95.77\n",
            "epoch # 448 Accuracy is  95.67\n",
            "epoch # 449 Accuracy is  95.71\n",
            "epoch # 450 Accuracy is  95.78\n",
            "epoch # 451 Accuracy is  95.95\n",
            "epoch # 452 Accuracy is  96.07\n",
            "epoch # 453 Accuracy is  95.92\n",
            "epoch # 454 Accuracy is  95.9\n",
            "epoch # 455 Accuracy is  95.83\n",
            "epoch # 456 Accuracy is  95.89\n",
            "epoch # 457 Accuracy is  95.85\n",
            "epoch # 458 Accuracy is  95.77\n",
            "epoch # 459 Accuracy is  95.68\n",
            "epoch # 460 Accuracy is  95.77\n",
            "epoch # 461 Accuracy is  95.88\n",
            "epoch # 462 Accuracy is  95.93\n",
            "epoch # 463 Accuracy is  95.85\n",
            "epoch # 464 Accuracy is  95.69\n",
            "epoch # 465 Accuracy is  95.71\n",
            "epoch # 466 Accuracy is  95.8\n",
            "epoch # 467 Accuracy is  95.72\n",
            "epoch # 468 Accuracy is  95.79\n",
            "epoch # 469 Accuracy is  95.82\n",
            "epoch # 470 Accuracy is  95.8\n",
            "epoch # 471 Accuracy is  95.85\n",
            "epoch # 472 Accuracy is  95.97\n",
            "epoch # 473 Accuracy is  95.84\n",
            "epoch # 474 Accuracy is  95.79\n",
            "epoch # 475 Accuracy is  95.9\n",
            "epoch # 476 Accuracy is  95.85\n",
            "epoch # 477 Accuracy is  95.82\n",
            "epoch # 478 Accuracy is  95.82\n",
            "epoch # 479 Accuracy is  95.86\n",
            "epoch # 480 Accuracy is  95.85\n",
            "epoch # 481 Accuracy is  95.92\n",
            "epoch # 482 Accuracy is  95.9\n",
            "epoch # 483 Accuracy is  95.89\n",
            "epoch # 484 Accuracy is  95.83\n",
            "epoch # 485 Accuracy is  95.82\n",
            "epoch # 486 Accuracy is  95.7\n",
            "epoch # 487 Accuracy is  95.93\n",
            "epoch # 488 Accuracy is  95.64\n",
            "epoch # 489 Accuracy is  95.59\n",
            "epoch # 490 Accuracy is  95.81\n",
            "epoch # 491 Accuracy is  95.7\n",
            "epoch # 492 Accuracy is  95.74\n",
            "epoch # 493 Accuracy is  95.9\n",
            "epoch # 494 Accuracy is  95.83\n",
            "epoch # 495 Accuracy is  95.74\n",
            "epoch # 496 Accuracy is  95.84\n",
            "epoch # 497 Accuracy is  95.71\n",
            "epoch # 498 Accuracy is  95.73\n",
            "epoch # 499 Accuracy is  95.82\n"
          ],
          "name": "stdout"
        }
      ]
    },
    {
      "cell_type": "code",
      "metadata": {
        "id": "3FnGdfv_ZI9l",
        "outputId": "bf6fb3f4-940d-41bf-eb54-be2d8b500d7c",
        "colab": {
          "base_uri": "https://localhost:8080/",
          "height": 444
        }
      },
      "source": [
        "x_a = [i for i in range(acc.shape[0])]\n",
        "x_c = [i for i in range(len(cost))]\n",
        "print('final prediction accuracy is: ', acc[499])\n",
        "plt.subplot(221)\n",
        "plt.plot(x_c, cost)\n",
        "plt.subplot(222)\n",
        "plt.plot(x_a, acc)\n",
        "plt.show()\n",
        "\n",
        "correct_img = X_test[y_test == y_pred][:25]\n",
        "correct_lab = y_test[y_test == y_pred][:25]\n",
        "correct_lab = y_pred[y_test == y_pred][:25]\n",
        "\n",
        "fig, ax = plt.subplots(nrows=5, ncols=5, sharex=True, sharey=True)\n",
        "ax = ax.flatten()\n",
        "for i in range(25):\n",
        "    img = correct_img[i].reshape(28,28)\n",
        "    ax[i].imshow(img, cmap='Greys', interpolation='nearest')\n",
        "    ax[i].set_title('%d) t: %d p: %d' % (i + 1, correct_lab[i], correct_lab[i]))\n",
        "ax[0].set_xticks([])\n",
        "ax[0].set_yticks([])\n",
        "plt.tight_layout()\n",
        "plt.show()"
      ],
      "execution_count": 36,
      "outputs": [
        {
          "output_type": "stream",
          "text": [
            "final prediction accuracy is:  95.82\n"
          ],
          "name": "stdout"
        },
        {
          "output_type": "display_data",
          "data": {
            "image/png": "[encoded data removed]",
            "text/plain": [
              "<Figure size 432x288 with 2 Axes>"
            ]
          },
          "metadata": {
            "tags": [],
            "needs_background": "light"
          }
        },
        {
          "output_type": "display_data",
          "data": {
            "image/png": "[encoded data removed]",
            "text/plain": [
              "<Figure size 432x288 with 25 Axes>"
            ]
          },
          "metadata": {
            "tags": []
          }
        }
      ]
    },
    {
      "cell_type": "code",
      "metadata": {
        "id": "2iHhaju2ZNl8",
        "outputId": "38bb98f0-41c8-4920-9861-8043d5821c9d",
        "colab": {
          "base_uri": "https://localhost:8080/",
          "height": 297
        }
      },
      "source": [
        "miscl_img = X_test[y_test != y_pred][:25]\n",
        "correct_lab = y_test[y_test != y_pred][:25]\n",
        "miscl_lab = y_pred[y_test != y_pred][:25]\n",
        "\n",
        "fig, ax = plt.subplots(nrows=5, ncols=5, sharex=True, sharey=True)\n",
        "ax = ax.flatten()\n",
        "for i in range(25):\n",
        "    img = miscl_img[i].reshape(28,28)\n",
        "    ax[i].imshow(img, cmap='Greys', interpolation='nearest')\n",
        "    ax[i].set_title('%d) t: %d p: %d' % (i + 1, correct_lab[i], miscl_lab[i]))\n",
        "ax[0].set_xticks([])\n",
        "ax[0].set_yticks([])\n",
        "plt.tight_layout()\n",
        "plt.show()"
      ],
      "execution_count": 35,
      "outputs": [
        {
          "output_type": "display_data",
          "data": {
            "image/png": "[encoded data removed]",
            "text/plain": [
              "<Figure size 432x288 with 25 Axes>"
            ]
          },
          "metadata": {
            "tags": []
          }
        }
      ]
    },
    {
      "cell_type": "code",
      "metadata": {
        "id": "Nt-9m2VefaZ_"
      },
      "source": [
        ""
      ],
      "execution_count": null,
      "outputs": []
    }
  ]
}